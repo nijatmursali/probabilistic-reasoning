{
 "cells": [
  {
   "cell_type": "markdown",
   "metadata": {},
   "source": [
    "# Hochschule Bonn-Rhein-Sieg\n",
    "\n",
    "# Probabilistic Methods for Robotics, WS21\n",
    "\n",
    "# Assignment 04"
   ]
  },
  {
   "cell_type": "markdown",
   "metadata": {},
   "source": [
    "Instructions for submission\n",
    "\n",
    "- Please restart and run all cells before submitting    - Make sure your user name is correct\n",
    "- No need to submit a pdf file, only the ipython is sufficient\n",
    "- If you cannot code the solution , write down in words how you      would go about solving it.\n",
    "- Write down theory questions in markdown format"
   ]
  },
  {
   "cell_type": "markdown",
   "metadata": {},
   "source": [
    "## Your name: nmursa2s\n"
   ]
  },
  {
   "cell_type": "code",
   "execution_count": 1,
   "metadata": {},
   "outputs": [],
   "source": [
    "import numpy as np\n",
    "import IPython"
   ]
  },
  {
   "cell_type": "markdown",
   "metadata": {},
   "source": [
    "### Exercise 1: Semantics of Bayesian networks [20 points]\n",
    "\n",
    "Let's suppose that we have a very simple line following robot. The robot is a differential drive, so it has two motors. The commands sent to the motors depend on the measurements of two light sensors; the sensors measure whether the robot is within or outside a line and are positioned on the left and right side of the robot. Segments of the line that our robot needs to follow are near a wall, so incorrect motor commands may lead to collisions with the wall.\n",
    "\n",
    "1.) Let's say that we are interested in diagnosing problems in the line following behaviour, such that we have a joint distribution represented as\n",
    "\n",
    "$\\begin{equation*}\n",
    "    P(C, M_1, M_2, S_1, S_2) = P(C|M_1,M_2)P(M_1|S_1,S_2)P(M_2|S_1,S_2)P(S_1)P(S_2)\n",
    "\\end{equation*}$\n",
    "\n",
    "where $M_{1,2}$ and $S_{1,2}$ model the motors and light sensors respectively and $C$ models collisions. Draw the Bayesian network corresponding to $P(C, M_1, M_2, S_1, S_2)$.\n",
    "\n",
    "<center><img src=\"ex1.png\"/></center>\n",
    "\n",
    "\n",
    "2.) Is this a causal or a diagnostic model? Justify your reasoning.\n",
    "\n",
    "Before moving to the question itself let's explain what are casual and diagnostic inferences. Casual inference happens when some event is the cause of another event (we can denote is as P(A|B) where A is the cause of B). For diagnostic inference, as understandable from it's name, we use effect (symptom) to inference a cause (We can denote is as P(B|A)). For this case we have to use Baye's Rule. Regarding to answer to question itself, this is casual model because we want to find a cause as we have an evidence.  "
   ]
  },
  {
   "cell_type": "markdown",
   "metadata": {},
   "source": [
    "### Exercise 2: More Bayesian networks [50 points]\n",
    "*Source: Russel, Norvig: \"Artificial Intelligence, a modern Approach\"\n",
    "\n",
    "\n",
    "![image.png](graph.png)\n",
    "\n",
    "Consider the Bayesian network shown in the figure:\n",
    "\n",
    "1.) Which of the following are asserted by the network structure? Describe your decision.\n",
    "\n",
    "(i) *$P$(B, I,M)* = *$P$(B)$P$(I)$P$(M)*. <br>\n",
    "(ii) *$P$(J |G)* = *$P$(J | G, I)*. <br>\n",
    "(iii) *$P$(M | G,B, I)* = *$P$(M | G,B, I, J)*.<br>\n",
    "\n",
    "2.) Calculate the value of $P(b, i,¬m, g, j)$\n",
    " \n",
    "3.) Calculate the probability that someone goes to jail given that they broke the law, have been indicted, and face a politically motivated prosecutor.\n",
    "\n",
    "4.) A $context$-$specific$ independence allows a variable to be independent\n",
    "of some of its parents given certain values of others. In addition to the usual conditional\n",
    "independences given by the graph structure, what context-specific independences exist\n",
    "in the Bayes net shown in the figure?"
   ]
  },
  {
   "cell_type": "markdown",
   "metadata": {},
   "source": [
    "1. The first case is false because I and M are not independent thus we would need I \\perp  B \\perp  M. The second case is correct because $J \\perp  I \\mid  G$. The last scenario is also correct because $M \\perp  J \\mid G,B,I$. \n",
    "2. $$P(b,i,¬m,g,j) = P(b)P(¬m)P(i \\mid b,¬m)P(g \\mid b,i,¬m)P(j \\mid g) = 0.9×0.9×0.5×0.8×0.9 ≈ 0.2916$$\n",
    "3. We need to find: $$P(j \\mid b,i,m)$$ Thus it will be: \n",
    "$$\n",
    "P(j \\mid b,i,m) = \\frac{\\sum_{g'}^{}P(j, b, i, m, g')}{\\sum_{{j'}, g'}^{}P(j', b, i, m, g')}=\\frac{\\sum_{g'}^{}P(b)P(m)P(i \\mid b, m)P(j \\mid g')}{\\sum_{i',g'}^{}P(b)P(m)P(i \\mid b, m)P(j' \\mid g')}=$$\n",
    "$$\\frac{\\sum_{g'}^{}P(g' \\mid b, i, m)P(j \\mid g')}{\\sum_{g'}^{}P(g' \\mid b, i, m) \\sum_{j'}^{}P(j' \\mid g'|)}= \\frac{0.9 \\times 0.9 + 0.1\\times 0}{0.9\\times 0.1+0.1\\times 0+0.9\\times 0.9+0.1\\times 1}\\approx 0.8\n",
    "$$\n",
    "\n",
    "4. In our figure, in my opinion, being indicted is not always can happen because of breaking law, thus this can be example for context-specific independences. "
   ]
  }
 ],
 "metadata": {
  "interpreter": {
   "hash": "44b09726a53eab2367cba2eccf2292044c44798d5850a5710e90fc8f342ca007"
  },
  "kernelspec": {
   "display_name": "Python 3.9.7 64-bit ('probabilistic-reasoning': conda)",
   "name": "python3"
  },
  "language_info": {
   "codemirror_mode": {
    "name": "ipython",
    "version": 3
   },
   "file_extension": ".py",
   "mimetype": "text/x-python",
   "name": "python",
   "nbconvert_exporter": "python",
   "pygments_lexer": "ipython3",
   "version": "3.9.7"
  }
 },
 "nbformat": 4,
 "nbformat_minor": 2
}
