{
 "cells": [
  {
   "cell_type": "markdown",
   "id": "developed-schema",
   "metadata": {
    "deletable": false,
    "editable": false
   },
   "source": [
    "# Hochschule Bonn-Rhein-Sieg\n",
    "\n",
    "# Probabilistic Reasoning, WS21\n",
    "\n",
    "# Assignment 02\n",
    "\n",
    "\n",
    "Instructions for submission :\n",
    "- Please restart and run all cells before submitting \n",
    "- Make sure your user name is correct\n",
    "- No need to submit a pdf file, only the ipython is sufficient\n",
    "- If you cannot code the solution , write down in words how you would go about solving it. \n",
    "- Write down theory questions in markdown format\n",
    "\n",
    "Good luck !!"
   ]
  },
  {
   "cell_type": "markdown",
   "metadata": {},
   "source": [
    "### Student user name: nmursa2s"
   ]
  },
  {
   "cell_type": "code",
   "execution_count": 1,
   "id": "ancient-border",
   "metadata": {},
   "outputs": [],
   "source": [
    "#Some of the libraries that might be useful.\n",
    "import numpy as np\n",
    "import random\n",
    "import matplotlib.pyplot as plt\n",
    "import scipy.stats \n",
    "from IPython.display import Image\n",
    "%matplotlib inline\n",
    "\n"
   ]
  },
  {
   "cell_type": "markdown",
   "id": "worthy-senator",
   "metadata": {
    "deletable": false,
    "editable": false
   },
   "source": [
    "## Exercise 01: Total Probability and Bayes' Rule (30 Points)\n",
    "\n",
    "Imagine there is a box of tools which has $20$ wrenches, $50$ screwdrivers, and $30$ pairs of pliers. A robot, let us call him wall-e, picks up a single tool from the box at random. There is a $0.2$ probability that the robot will drop a wrench, a $0.1$ probability that it will drop a screwdriver, and a $0.3$ probability that it will drop a pair of pliers; in other words,\n",
    "\n",
    "$P(d|w) = 0.2 \\hspace{2cm} P(d|s) = 0.1 \\hspace{2cm} P(d|p) = 0.3$\n",
    "\n",
    "where $d$ is the event in which wall-e drops a tool, while $w, s$, and $p$ are the events in which wall-e picks up a wrench, a screwdriver, and a pair of pliers respectively. If wall-e drops a tool, a human operator puts the tool back into the gripper and the robot continues its operation.\n",
    "\n",
    "1. What is the probability that the robot drops a tool?\n",
    "\n",
    "\n",
    "2. If we know that the robot has dropped a tool, what is the probability that it had picked up a pair of pliers?\n",
    "\n",
    "\n",
    "3. Show that the probability that wall-e had picked up a screwdriver given two observed drops is equal to $$P(s|d_1,d_2) = \\frac{P(d_2|s)P(s|d_1)}{P(d_2|s)P(s|d_1) + P(d_2|w)P(w|d_1) + P(d_2|p)P(p|d_1)}$$"
   ]
  },
  {
   "cell_type": "markdown",
   "metadata": {},
   "source": [
    "Let say we have total of 100 tools. We can say P(w)=20/100=0.2, P(s)=50/100=0.5, P(p)=30/100=0.3. \n",
    "\n",
    "We also know the probabilities for P(d|w)=0.2, P(d|s)=0.1, P(d|p)=0.3\n",
    "\n",
    "Bayes Rule says that $$P(A|B) = \\frac{P(B|A)P(A)}{P(B)}$$\n",
    "\n",
    "where A and B are events, P(A|B) is probability of A given B, P(B|A) is probability of B given A, and lastly P(A) and P(B) are independent probabilities of A and B.\n",
    "\n",
    "Thus, by having all these information, we may solve the following exercises."
   ]
  },
  {
   "cell_type": "markdown",
   "id": "enhanced-endorsement",
   "metadata": {},
   "source": [
    "### 1 Your answer here \n",
    "We already know the probabilities of each P(d|w), thus it will be sum of each probabilities. So, $$P(total) = P(d|w)P(w)+P(d|s)P(d)+P(d|p)P(p)=0.2*0.2+0.1*0.5+0.3*0.3=0.18$$"
   ]
  },
  {
   "cell_type": "markdown",
   "id": "postal-belfast",
   "metadata": {},
   "source": [
    "### 2 Your answer here \n",
    "We know that if a tool is dropped, it can be wrenches, screwdrivers or pliers. In this case, we have the probability of 0.3 that dropped tool is pliers. By applying Bayes Rule, we can say that $$P(p|d) = \\frac{P(d|p)P(p)}{P(d)}=\\frac{0.3*0.3}{0.6}=0.15$$\n",
    "\n",
    "Thus, the probability that robot had picked up a pair of pliers will be also 0.3"
   ]
  },
  {
   "cell_type": "markdown",
   "id": "aggregate-municipality",
   "metadata": {},
   "source": [
    "### 3 Your answer here \n",
    "In this question, we need to show that the probability that wall-e had picked up a screwdriver given two observed drops is equal to $$P(s|d_1,d_2) = \\frac{P(d_2|s)P(s|d_1)}{P(d_2|s)P(s|d_1) + P(d_2|w)P(w|d_1) + P(d_2|p)P(p|d_1)}$$\n",
    "\n",
    "We know from our Uncertanitiy lecture that (slide 46), we can write $$P(Y|X,e) = \\frac{P(X|Y,e)P(Y|e)}{P(X|e)}$$\n",
    "Thus, by changing the values, which we mean changing Y with s, X and e with d_1 and d_2, respectively."
   ]
  },
  {
   "cell_type": "markdown",
   "id": "imported-honor",
   "metadata": {
    "deletable": false,
    "editable": false
   },
   "source": [
    "## Excercise 02 (20 points)\n",
    "This question deals with discrete distributions. \n",
    "How do we find in python scipy probability and likelihood for discrete distribution? \n",
    "The answer is we use probability mass function```pmf``` instead of probability density function(``pdf``)\n",
    "\n",
    "\n",
    "We can learn about using discrete distribution form the video from 3Blue1Brown youtube channel . [Binomial Distribution](https://www.youtube.com/watch?v=8idr1WZ1A7Q)\n",
    "\n",
    "This is an open problem, please free to plot as many plots you want. We are open to creativity ```matplotlib ``` has an animation part so you can create an animation video of the sampling.\n",
    "\n",
    "\n",
    "\n",
    "The task here is to create the plots from the video For example.\n",
    "\n",
    "1. Plot of the amazon problem binomial distribution\n",
    "\n",
    "2. Using random sample and building the histogram to check the shape \n",
    "\n",
    "__Bonus__:\n",
    "The author of the above video used a library called ```manim``` to make the above videos. Feel free to experiment. \n",
    "\n",
    "\n"
   ]
  },
  {
   "cell_type": "code",
   "execution_count": 2,
   "id": "activated-oxford",
   "metadata": {},
   "outputs": [
    {
     "name": "stdout",
     "output_type": "stream",
     "text": [
      "[9.999999999999956e-21, 1.7999999999999916e-18, 1.5389999999999916e-16, 8.310599999999961e-15, 3.17880449999999e-13, 9.154956959999973e-12, 2.059865315999995e-10, 3.707757568799992e-09, 5.422595444369992e-08, 6.507114533243975e-07, 6.44204338791154e-06, 5.2707627719276246e-05, 0.00035577648710511533, 0.0019704543901206384, 0.008867044755542872, 0.03192136111995438, 0.08977882814987158, 0.19011987137619873, 0.28517980706429835, 0.27017034353459823, 0.12157665459056935]\n"
     ]
    },
    {
     "data": {
      "image/png": "[encoded data removed]",
      "text/plain": [
       "<Figure size 432x288 with 1 Axes>"
      ]
     },
     "metadata": {
      "needs_background": "light"
     },
     "output_type": "display_data"
    }
   ],
   "source": [
    "# 1 Your answer here \n",
    "from scipy.stats import binom\n",
    "n = 20\n",
    "p = 0.90\n",
    "values = list(range(n + 1))\n",
    "\n",
    "dist = [binom.pmf(r, n, p) for r in values ]\n",
    "print(dist)\n",
    "plt.bar(values, dist)\n",
    "plt.show()"
   ]
  },
  {
   "cell_type": "code",
   "execution_count": 3,
   "id": "ready-special",
   "metadata": {},
   "outputs": [
    {
     "name": "stdout",
     "output_type": "stream",
     "text": [
      "[1.7999999999999916e-18, 0.0019704543901206384, 0.08977882814987158, 0.03192136111995438, 0.12157665459056935, 0.27017034353459823, 6.44204338791154e-06, 5.422595444369992e-08]\n"
     ]
    },
    {
     "data": {
      "text/plain": [
       "Text(0.5, 1.0, 'Histogram for sample data')"
      ]
     },
     "execution_count": 3,
     "metadata": {},
     "output_type": "execute_result"
    },
    {
     "data": {
      "image/png": "[encoded data removed]",
      "text/plain": [
       "<Figure size 432x288 with 1 Axes>"
      ]
     },
     "metadata": {
      "needs_background": "light"
     },
     "output_type": "display_data"
    }
   ],
   "source": [
    "# 2 Your answer here \n",
    "import random\n",
    "\n",
    "new_list = random.sample(dist, int(len(dist)*0.4))\n",
    "print(new_list)\n",
    "n, bins, patches = plt.hist(x=new_list, bins='auto', color='#0504aa',\n",
    "                            alpha=0.7, rwidth=0.85)\n",
    "plt.title('Histogram for sample data')"
   ]
  },
  {
   "cell_type": "markdown",
   "id": "sonic-rabbit",
   "metadata": {
    "deletable": false,
    "editable": false
   },
   "source": [
    "## Exercise 03 (25 points)\n",
    "\n",
    "The purpose of this exercise is to learn an application of bayes' theorem and to learn the terminology used in the world of statistics. \n",
    "\n",
    "A person has a cough and flu-like symptoms, and gets a PCR test for COVID-19, which comes back postiive. What is the likelihood that they actually have COVID-19, as opposed to a regular cold or flu? \n",
    "\n",
    "We can use Bayes’ theorem to compute this. Let’s say that the local rate of symptomatic individuals who actually are infected with COVID-19 is 7.4% ; thus, our prior probability that someone with symptoms actually has COVID-19 is .074. The RT-PCR test used to identify COVID-19 RNA is highly specific (that is, it very rarely reports the presence of the virus when it is not present); for our example, we will say that the specificity is 99%. Its sensitivity is not known, but probably is no higher than 90%.\n",
    "First let’s look at the probability of disease given a single positive test.\n",
    "\n",
    "The high specificity of the test, along with the relatively high base rate of the disease, means that most people who test positive actually have the disease.\n",
    "\n",
    "\n",
    "Read about sensitivity and specificity and its relation to Bayes theorem here [wiki link](https://en.wikipedia.org/wiki/Sensitivity_and_specificity)\n",
    "\n",
    "\n",
    "1. Complete the function ```compute_posterior```\n",
    "\n",
    "2. Calculate the posterior for the given ```prior_values``` and lot the results to see the change in posterior. Discuss your results\n",
    "\n",
    "\n"
   ]
  },
  {
   "cell_type": "code",
   "execution_count": 4,
   "id": "ranking-induction",
   "metadata": {},
   "outputs": [
    {
     "name": "stdout",
     "output_type": "stream",
     "text": [
      "[0.08264463 0.15280136 0.21310182 0.26548673 0.31141869 0.35202086\n",
      " 0.38817006 0.42056075 0.44975014 0.47619048 0.50025265 0.52224371\n",
      " 0.54242003 0.56099733 0.57815846 0.59405941 0.60883406 0.622598\n",
      " 0.63545151 0.64748201 0.65876612 0.6693712  0.67935674 0.68877551\n",
      " 0.69767442 0.70609535 0.71407582 0.72164948 0.72884669 0.73569482\n",
      " 0.74221868 0.74844075 0.75438151 0.76005961 0.7654921  0.77069458\n",
      " 0.77568134 0.78046554 0.78505927 0.78947368 0.79371908 0.79780498\n",
      " 0.80174021 0.80553295 0.80919081 0.81272085 0.81612965 0.81942337\n",
      " 0.82260772 0.82568807 0.82866943 0.8315565  0.83435368 0.83706511\n",
      " 0.83969466 0.84224599 0.84472254 0.84712756 0.84946409 0.85173502\n",
      " 0.85394307 0.85609083 0.85818072 0.86021505 0.86219602 0.86412569\n",
      " 0.86600603 0.86783891 0.8696261  0.87136929 0.87307009 0.87473002\n",
      " 0.87635054 0.87793303 0.87947883 0.88098918 0.8824653  0.88390834\n",
      " 0.88531939 0.88669951 0.8880497  0.88937093 0.89066412 0.89193016\n",
      " 0.89316988 0.8943841  0.8955736  0.89673913 0.8978814  0.89900111\n",
      " 0.90009891 0.90117545 0.90223132 0.90326714 0.90428345 0.9052808\n",
      " 0.90625973 0.90722074 0.90816431 0.90909091 0.910001   0.91089502\n",
      " 0.91177338 0.91263651 0.91348478 0.91431857 0.91513827 0.91594421\n",
      " 0.91673675 0.91751622 0.91828293 0.9190372  0.91977933 0.9205096\n",
      " 0.9212283  0.92193571 0.92263209 0.92331768 0.92399275 0.92465753\n",
      " 0.92531226 0.92595716 0.92659245 0.92721834 0.92783505 0.92844277\n",
      " 0.9290417  0.92963202 0.93021393 0.93078759 0.93135319 0.93191089\n",
      " 0.93246086 0.93300325 0.93353823 0.93406593 0.93458652 0.93510014\n",
      " 0.93560691 0.93610698 0.93660049 0.93708755 0.9375683  0.93804285\n",
      " 0.93851133 0.93897385 0.93943052 0.93988146 0.94032677 0.94076655\n",
      " 0.94120091 0.94162996 0.94205377 0.94247246 0.94288611 0.94329481\n",
      " 0.94369866 0.94409773 0.94449211 0.94488189 0.94526714 0.94564794\n",
      " 0.94602438 0.94639651 0.94676442 0.94712819 0.94748786 0.94784353\n",
      " 0.94819525 0.94854309 0.94888711 0.94922737 0.94956394 0.94989688\n",
      " 0.95022624 0.95055209 0.95087447 0.95119344 0.95150907 0.95182139\n",
      " 0.95213046 0.95243633 0.95273905 0.95303867 0.95333524 0.9536288\n",
      " 0.9539194  0.95420708 0.95449189 0.95477387 0.95505306 0.9553295\n",
      " 0.95560323 0.9558743  0.95614274 0.95640859 0.95667188 0.95693266\n",
      " 0.95719096 0.95744681 0.95770025 0.95795131 0.95820003 0.95844644\n",
      " 0.95869057 0.95893245 0.95917212 0.95940959 0.95964492 0.95987811\n",
      " 0.96010921 0.96033823 0.96056522 0.96079018 0.96101316 0.96123418\n",
      " 0.96145326 0.96167042 0.96188571 0.96209913 0.96231071 0.96252047\n",
      " 0.96272845 0.96293466 0.96313912 0.96334186 0.96354289 0.96374225\n",
      " 0.96393995 0.964136   0.96433044 0.96452328 0.96471454 0.96490424\n",
      " 0.9650924  0.96527904 0.96546417 0.96564782 0.96583    0.96601073\n",
      " 0.96619003 0.96636791 0.96654439 0.96671949 0.96689323 0.96706561\n",
      " 0.96723665 0.96740638 0.9675748  0.96774194 0.96790779 0.96807239\n",
      " 0.96823574 0.96839786 0.96855877 0.96871847 0.96887697 0.9690343\n",
      " 0.96919047 0.96934548 0.96949936 0.96965211 0.96980374 0.96995428\n",
      " 0.97010372 0.97025209 0.97039939 0.97054563 0.97069083 0.970835\n",
      " 0.97097814 0.97112028 0.97126141 0.97140156 0.97154073 0.97167892\n",
      " 0.97181616 0.97195245 0.9720878  0.97222222 0.97235572 0.97248831\n",
      " 0.97262    0.9727508  0.97288071 0.97300975 0.97313793 0.97326524\n",
      " 0.97339171 0.97351734 0.97364214 0.97376612 0.97388928 0.97401163\n",
      " 0.97413319 0.97425395 0.97437393 0.97449313 0.97461157 0.97472924\n",
      " 0.97484616 0.97496234 0.97507777 0.97519247 0.97530645 0.97541971\n",
      " 0.97553225 0.97564409 0.97575524 0.97586569 0.97597545 0.97608454\n",
      " 0.97619295 0.9763007  0.97640778 0.97651422 0.97662    0.97672514\n",
      " 0.97682964 0.97693351 0.97703676 0.97713939 0.9772414  0.97734281\n",
      " 0.97744361 0.97754381 0.97764342 0.97774245 0.97784089 0.97793876\n",
      " 0.97803605 0.97813277 0.97822894 0.97832455 0.9784196  0.97851411\n",
      " 0.97860807 0.9787015  0.97879439 0.97888676 0.9789786  0.97906992\n",
      " 0.97916072 0.97925101 0.9793408  0.97943008 0.97951887 0.97960716\n",
      " 0.97969496 0.97978227 0.9798691  0.97995546 0.98004134 0.98012675\n",
      " 0.98021169 0.98029617 0.98038019 0.98046376 0.98054687 0.98062954\n",
      " 0.98071176 0.98079355 0.98087489 0.9809558  0.98103628 0.98111634\n",
      " 0.98119597 0.98127518 0.98135398 0.98143236 0.98151033 0.9815879\n",
      " 0.98166506 0.98174182 0.98181818 0.98189415 0.98196973 0.98204492\n",
      " 0.98211972 0.98219414 0.98226818 0.98234185 0.98241514 0.98248806\n",
      " 0.98256061 0.9826328  0.98270462 0.98277609 0.9828472  0.98291795\n",
      " 0.98298835 0.9830584  0.98312811 0.98319747 0.98326649 0.98333517\n",
      " 0.98340352 0.98347153 0.98353921 0.98360656 0.98367358 0.98374028\n",
      " 0.98380666 0.98387271 0.98393845 0.98400388 0.98406899 0.98413379\n",
      " 0.98419828 0.98426247 0.98432635 0.98438993 0.98445321 0.9845162\n",
      " 0.98457888 0.98464128 0.98470338 0.9847652  0.98482672 0.98488796\n",
      " 0.98494892 0.9850096  0.98506999 0.98513011 0.98518995 0.98524952\n",
      " 0.98530882 0.98536785 0.98542661 0.9854851  0.98554333 0.9856013\n",
      " 0.985659   0.98571645 0.98577364 0.98583057 0.98588725 0.98594367\n",
      " 0.98599985 0.98605578 0.98611146 0.98616689 0.98622208 0.98627703\n",
      " 0.98633173 0.9863862  0.98644043 0.98649442 0.98654818 0.98660171\n",
      " 0.986655   0.98670806 0.9867609  0.98681351 0.98686589 0.98691805\n",
      " 0.98696998 0.98702169 0.98707319 0.98712446 0.98717552 0.98722636\n",
      " 0.98727699 0.98732741 0.98737761 0.9874276  0.98747739 0.98752696\n",
      " 0.98757633 0.9876255  0.98767446 0.98772321 0.98777177 0.98782013\n",
      " 0.98786828 0.98791624 0.98796401 0.98801158 0.98805895 0.98810613\n",
      " 0.98815312 0.98819992 0.98824653 0.98829295 0.98833918 0.98838523\n",
      " 0.98843109 0.98847677 0.98852227 0.98856759 0.98861272 0.98865768\n",
      " 0.98870245 0.98874705 0.98879148 0.98883573 0.9888798  0.9889237\n",
      " 0.98896743]\n"
     ]
    }
   ],
   "source": [
    "def compute_posterior(prior, sensitivity, specificity):\n",
    "    '''\n",
    "    Computes the posterior for given prior,sensitivity and specificity\n",
    "    \n",
    "    '''\n",
    "    likelihood = sensitivity  # p(test|disease present) \n",
    "    marginal_likelihood = sensitivity * prior + (1 - specificity) * (1 - prior)\n",
    "    # Bayes Rule says that P(A|B)=(P(B|A)*P(A))/(P(B))\n",
    "    # posterior probability is equal to sum of prior probability + likelihood(which is new evidence) and then we need to divide by marginal likelihood\n",
    "    posterior = (likelihood * prior) / marginal_likelihood \n",
    "    return(posterior)\n",
    "\n",
    "\n",
    "#we can choose values for sensitivity \n",
    "# we know that sensitivity = number of true positives/(number of true positives + number of false negatives)\n",
    "# which is also equal to number of true positives/total # of sich individuals \n",
    "sensitivity = 0.90\n",
    "# specificity = # of true negatives / number of true negatives + number of false positives\n",
    "# it is also equal to # of true negatives / total number of well individuals in population\n",
    "specificity = 0.99\n",
    "prior_probability = 0.074\n",
    "\n",
    "prior_values = np.arange(0.001, 0.5, 0.001)\n",
    "posterior_values = compute_posterior(prior_values, sensitivity, specificity)\n",
    "\n",
    "print(posterior_values)\n"
   ]
  },
  {
   "cell_type": "code",
   "execution_count": 5,
   "id": "massive-laptop",
   "metadata": {},
   "outputs": [
    {
     "data": {
      "image/png": "[encoded data removed]",
      "text/plain": [
       "<Figure size 432x288 with 1 Axes>"
      ]
     },
     "metadata": {
      "needs_background": "light"
     },
     "output_type": "display_data"
    }
   ],
   "source": [
    "# 2 Your answer here \n",
    "plt.plot(prior_values, posterior_values)\n",
    "plt.xlabel('Prior values')\n",
    "_ = plt.ylabel('Posterior values')"
   ]
  },
  {
   "cell_type": "markdown",
   "id": "conditional-question",
   "metadata": {
    "deletable": false,
    "editable": false
   },
   "source": [
    "## Exercise 04 (25 points)\n",
    "\n",
    "Your cell phone is constantly trying to keep track of where you are. At any given\n",
    "point in time, for all nearby locations, your phone stores a probability that you are in that\n",
    "location. Right now your phone believes that you are in one of 16 different locations arranged\n",
    "in a grid with the following probabilities.\n",
    "\n",
    "Your phone connects to a known cell tower and records two bars of signal. For each grid\n",
    "location $L_i$ you know the probability of observing two bars from this particular tower, given\n",
    "that the cell phone is in location $L_i$ (see the figure on the bottom). That value is based on\n",
    "knowledge of the dynamics of this particular cell tower and stochasticity of signal strength.\n",
    "\n",
    "\n",
    "Example: the highlighted cell on the left figure means that you believed there was a 0.05\n",
    "probability that the user was in the bottom right grid cell prior to observing the cell tower\n",
    "signal. The highlighted cell on the right figure means that you think the probability of observing\n",
    "two bars, given the user was in the bottom right grid cell, is 0.75.\n",
    "\n",
    "\n",
    "Write a program to calculate the new probability for each of the 16 location positions, that the user is in each location given the cell tower observation. Use the probability values given in the diagram \n",
    "\n",
    "![Probability.png](location_vs_p.png)"
   ]
  },
  {
   "cell_type": "code",
   "execution_count": 6,
   "id": "basic-audience",
   "metadata": {},
   "outputs": [
    {
     "name": "stdout",
     "output_type": "stream",
     "text": [
      "[[0.075, 0.19, 0.075, 0.005], [0.005, 0.15, 0.095, 0.075], [0.001, 0.005, 0.15, 0.095], [0.001, 0.001, 0.01, 0.075]]\n"
     ]
    }
   ],
   "source": [
    "# Your answer here\n",
    "belief_of_location = [[0.05, 0.1, 0.05, 0.05], [0.05, 0.1, 0.05, 0.05], [0.05, 0.05, 0.10, 0.05], [0.05, 0.05, 0.10, 0.05]]\n",
    "two_bars_given_location = [[0.75, 0.95, 0.75, 0.05], [0.05, 0.75, 0.95, 0.75], [0.01, 0.05, 0.75, 0.95], [0.01, 0.01, 0.05, 0.75]]\n",
    "\n",
    "def calculate_location_given_s():\n",
    "    location_given_s = [[], [], [], []]\n",
    "\n",
    "    for i in range(len(belief_of_location)):\n",
    "        for j in range(len(belief_of_location[0])):\n",
    "            location_for_s = (belief_of_location[i][j] * two_bars_given_location[i][j]) / 0.5\n",
    "            location_given_s[i].append(round(location_for_s, 3))\n",
    "\n",
    "    return location_given_s\n",
    "\n",
    "location_given_s = calculate_location_given_s()\n",
    "print(location_given_s)"
   ]
  }
 ],
 "metadata": {
  "interpreter": {
   "hash": "44b09726a53eab2367cba2eccf2292044c44798d5850a5710e90fc8f342ca007"
  },
  "kernelspec": {
   "display_name": "Python 3.9.7 64-bit ('probabilistic-reasoning': conda)",
   "name": "python3"
  },
  "language_info": {
   "codemirror_mode": {
    "name": "ipython",
    "version": 3
   },
   "file_extension": ".py",
   "mimetype": "text/x-python",
   "name": "python",
   "nbconvert_exporter": "python",
   "pygments_lexer": "ipython3",
   "version": "3.9.7"
  }
 },
 "nbformat": 4,
 "nbformat_minor": 5
}
