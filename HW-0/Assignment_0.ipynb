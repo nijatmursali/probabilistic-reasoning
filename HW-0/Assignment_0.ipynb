{
 "cells": [
  {
   "cell_type": "markdown",
   "source": [
    "# Hochschule Bonn-Rhein-Sieg\n",
    "\n",
    "# Probabilistic Reasoning, WS21\n",
    "\n",
    "# Assignment 00\n",
    "\n",
    "\n",
    "Instructions for submission :\n",
    "- Please restart and run all cells before submitting \n",
    "- Make sure your user name is correct\n",
    "\n",
    "Good luck !!"
   ],
   "metadata": {
    "deletable": false,
    "editable": false
   }
  },
  {
   "cell_type": "markdown",
   "source": [
    "### Student user name: nmursa2s\n"
   ],
   "metadata": {
    "id": "YJw-ka7OVFgj"
   }
  },
  {
   "cell_type": "code",
   "execution_count": 1,
   "source": [
    "#Some of the libraries that might be useful.\n",
    "import numpy as np\n",
    "import random\n",
    "import matplotlib.pyplot as plt\n",
    "%matplotlib inline"
   ],
   "outputs": [],
   "metadata": {
    "id": "T8S65CKpVFgj"
   }
  },
  {
   "cell_type": "markdown",
   "source": [
    "## Exercise 01 (10 points )\n",
    "\n",
    "These exercises are aimed at refreshing your python skills. Complete the following tasks. \n",
    "\n",
    "1) Make a list of the numbers 1 to 10 and print the result\n",
    "\n",
    "2) Make a list of the first 10 square numbers and print the result\n",
    "\n",
    "3) Make a list of the first 10 square numbers in reversed order and print the result\n",
    "\n",
    "4) A function to print prime numbers in a given range.Print prime numbers between 1 to 100 as a test\n",
    "\n"
   ],
   "metadata": {
    "deletable": false,
    "editable": false
   }
  },
  {
   "cell_type": "code",
   "execution_count": 2,
   "source": [
    "# 1 Your answer here \n",
    "arr = [i for i in range(1, 11)]\n",
    "print(arr)"
   ],
   "outputs": [
    {
     "output_type": "stream",
     "name": "stdout",
     "text": [
      "[1, 2, 3, 4, 5, 6, 7, 8, 9, 10]\n"
     ]
    }
   ],
   "metadata": {
    "id": "4LeXWq51eTxA"
   }
  },
  {
   "cell_type": "code",
   "execution_count": 3,
   "source": [
    "# 2 Your answer here \n",
    "arr = [i**2 for i in range(1, 11)]\n",
    "print(arr)"
   ],
   "outputs": [
    {
     "output_type": "stream",
     "name": "stdout",
     "text": [
      "[1, 4, 9, 16, 25, 36, 49, 64, 81, 100]\n"
     ]
    }
   ],
   "metadata": {
    "id": "BuSZMyXgeX_0"
   }
  },
  {
   "cell_type": "code",
   "execution_count": 4,
   "source": [
    "# 3 Your answer here \n",
    "arr = [i**2 for i in range(1, 11)]\n",
    "arr.reverse()\n",
    "print(arr)"
   ],
   "outputs": [
    {
     "output_type": "stream",
     "name": "stdout",
     "text": [
      "[100, 81, 64, 49, 36, 25, 16, 9, 4, 1]\n"
     ]
    }
   ],
   "metadata": {
    "id": "imyHmvWAeYKs"
   }
  },
  {
   "cell_type": "code",
   "execution_count": 5,
   "source": [
    "# 4 Your answer here \n",
    "def primes(start, end):\n",
    "    array = [i for i in range(start, end)]\n",
    "    prime = []\n",
    "    for p in array:\n",
    "        if p%2==1:\n",
    "            prime.append(p)\n",
    "    return prime\n",
    "prime = primes(1, 100)\n",
    "print(prime)"
   ],
   "outputs": [
    {
     "output_type": "stream",
     "name": "stdout",
     "text": [
      "[1, 3, 5, 7, 9, 11, 13, 15, 17, 19, 21, 23, 25, 27, 29, 31, 33, 35, 37, 39, 41, 43, 45, 47, 49, 51, 53, 55, 57, 59, 61, 63, 65, 67, 69, 71, 73, 75, 77, 79, 81, 83, 85, 87, 89, 91, 93, 95, 97, 99]\n"
     ]
    }
   ],
   "metadata": {
    "id": "HV9mtJ2geYZr"
   }
  },
  {
   "cell_type": "markdown",
   "source": [
    "## Exercise 02 (20 points)\n",
    "Given below is a DNA sequence and each letter is called a base eg: T and A are bases.\n",
    "A complementary DNA strand is necessary to create the double helix structure of the DNA. Base A is complementary to T and C is complementary to G and vice versa.Given that variable \"dna\" is a sample dna structure. Complete the following tasks.  \n",
    "\n",
    "\n",
    "1) Remove any blank space characters including newlines in dna. Print the variable before and after editing for comparison. \n",
    "\n",
    "2) Find the unique bases in dna(the name and the count of each).\n",
    "\n",
    "3) Find the position of the first occurrence of ‘C’ in dna.\n",
    "\n",
    "4) Find the position of the second occurrence of ‘G’ in dna.\n",
    "\n",
    "5) A 1-D random walk experiment starts from value 0, then either adds or subtracts 1 at each step. Run n such random walks, each time recording the final value after k steps. Show the counts of each final value. What is the mean and standard deviaiton of the final values?\n",
    "Let n = 10000 and k=100. Use the standard library package \"random\" to generate random steps.\n"
   ],
   "metadata": {
    "deletable": false,
    "editable": false,
    "tags": []
   }
  },
  {
   "cell_type": "code",
   "execution_count": 6,
   "source": [
    "dna = \"\"\"\n",
    "TTTAAATTCCCTGGCACCCG CTGGAGTTCTCGATTTCGAC\n",
    "CAAC CACGACGGTGTGATTCTGAATGTAG TTAGTATCTAC\n",
    "CCA GAGCT CAGGTCATATCGCG CCAAGCATAAAGGTGGCT\n",
    "GTTGAAAGTCGATGTCCGTA TAAGTT CCGTTTC CTAATGA\n",
    "\"\"\""
   ],
   "outputs": [],
   "metadata": {
    "id": "Q9xoudY7VFgm"
   }
  },
  {
   "cell_type": "code",
   "execution_count": 7,
   "source": [
    "import re\n",
    "# 1 your answer here\n",
    "dna_new = re.sub(r\"[\\n\\t\\s]*\", \"\",dna)\n",
    "print(dna)\n",
    "print(dna_new)"
   ],
   "outputs": [
    {
     "output_type": "stream",
     "name": "stdout",
     "text": [
      "\n",
      "TTTAAATTCCCTGGCACCCG CTGGAGTTCTCGATTTCGAC\n",
      "CAAC CACGACGGTGTGATTCTGAATGTAG TTAGTATCTAC\n",
      "CCA GAGCT CAGGTCATATCGCG CCAAGCATAAAGGTGGCT\n",
      "GTTGAAAGTCGATGTCCGTA TAAGTT CCGTTTC CTAATGA\n",
      "\n",
      "TTTAAATTCCCTGGCACCCGCTGGAGTTCTCGATTTCGACCAACCACGACGGTGTGATTCTGAATGTAGTTAGTATCTACCCAGAGCTCAGGTCATATCGCGCCAAGCATAAAGGTGGCTGTTGAAAGTCGATGTCCGTATAAGTTCCGTTTCCTAATGA\n"
     ]
    }
   ],
   "metadata": {
    "id": "cZud3B4JedY3"
   }
  },
  {
   "cell_type": "code",
   "execution_count": 8,
   "source": [
    "# 2 your answer here\n",
    "unique = set(list(dna_new))\n",
    "for s in unique:\n",
    "    print (\"Base \"+s, \"occured \" +str(dna_new.count(s)) + \" times\")"
   ],
   "outputs": [
    {
     "output_type": "stream",
     "name": "stdout",
     "text": [
      "Base A occured 39 times\n",
      "Base C occured 38 times\n",
      "Base T occured 46 times\n",
      "Base G occured 37 times\n"
     ]
    }
   ],
   "metadata": {
    "id": "iez_4VQseyN7"
   }
  },
  {
   "cell_type": "code",
   "execution_count": 9,
   "source": [
    "# 3 your answer here \n",
    "print(dna_new.find('C'))"
   ],
   "outputs": [
    {
     "output_type": "stream",
     "name": "stdout",
     "text": [
      "8\n"
     ]
    }
   ],
   "metadata": {
    "id": "tIJ2Szt5eyU7"
   }
  },
  {
   "cell_type": "code",
   "execution_count": 10,
   "source": [
    "# 4 your answer here \n",
    "first_occ = dna_new.find('G')\n",
    "print(dna_new.find('G', first_occ + 1))"
   ],
   "outputs": [
    {
     "output_type": "stream",
     "name": "stdout",
     "text": [
      "13\n"
     ]
    }
   ],
   "metadata": {
    "id": "U9JlmIoKeyie"
   }
  },
  {
   "cell_type": "code",
   "execution_count": 11,
   "source": [
    "# 5 your answer here \n",
    "import random\n",
    "import time\n",
    "import statistics\n",
    "\n",
    "n = 10000\n",
    "k = 100\n",
    "\n",
    "current_value: int = 0\n",
    "recorded_values: list = []\n",
    "\n",
    "random.seed(time.time())\n",
    "\n",
    "for i in range(n):\n",
    "    direction = True if random.random() <= 0.5 else False\n",
    "    current_value = current_value + 1 if direction else current_value - 1\n",
    "    if (i+1) % k == 0:\n",
    "        recorded_values.append(current_value)\n",
    "\n",
    "print(recorded_values)\n",
    "mean = statistics.mean(recorded_values)\n",
    "std = statistics.stdev(recorded_values)\n",
    "print(f\"Mean is {mean}\\nDeviation is {std}\")"
   ],
   "outputs": [
    {
     "output_type": "stream",
     "name": "stdout",
     "text": [
      "[8, 4, 6, 8, 6, -14, -24, -16, -16, -18, -30, -42, -50, -60, -46, -58, -58, -36, -40, -46, -44, -66, -74, -80, -82, -78, -84, -70, -74, -92, -78, -58, -66, -62, -44, -50, -72, -80, -62, -74, -90, -84, -82, -88, -78, -76, -70, -78, -80, -70, -66, -58, -66, -64, -66, -46, -50, -46, -42, -34, -44, -44, -42, -48, -36, -38, -40, -42, -30, -12, -10, 4, 14, 4, -8, -10, 2, 4, 6, 8, 4, 6, 0, -2, 4, 0, -4, 0, 8, 10, 6, -4, 6, 10, 14, 2, 18, 12, 20, 28]\n",
      "Mean is -34.7\n",
      "Deviation is 34.206001009333214\n"
     ]
    }
   ],
   "metadata": {}
  },
  {
   "cell_type": "markdown",
   "source": [
    "## Exercise 03 (40 points)\n",
    "An experiment consists of selecting a token from a bag and spinning a coin. The bag contains 5 red tokens and 7 blue tokens. A token is selected at random from the bag, its colour is noted and then the token is returned to the bag.\n",
    "When a red token is selected, a biased coin with probability $\\frac{2}{3}$ of landing heads is spun.\n",
    "\n",
    "When a blue token is selected a fair coin is spun.\n",
    "Use the python \"random\" library to generate samples. Use __10,000 samples__ for calculations. \n",
    "\n",
    "1) What is the probability of picking a red token?\n",
    "\n",
    "2) What is the probability of obtaining Heads? \n",
    "\n",
    "Hint: For the second random selection (flipping a coin) you can select from a random number between 0 and 1\n",
    "\n",
    "3) If a heads is obtained, what is the probability of having selected a red token."
   ],
   "metadata": {
    "deletable": false,
    "editable": false
   }
  },
  {
   "cell_type": "code",
   "execution_count": 12,
   "source": [
    "# 1 your answer here \n",
    "n = 10000 #number of samples\n",
    "def pick_token(bag):\n",
    "    return random.choice(bag)\n",
    "def experiment(bag):\n",
    "    chosen_token = pick_token(bag=bag)\n",
    "    if chosen_token == \"Red\":\n",
    "        probability_heads = 2 / 3\n",
    "    else:\n",
    "        probability_heads = 1/2\n",
    "    if random.random() < probability_heads:\n",
    "        coin = \"Heads\"\n",
    "    else:\n",
    "        coin = \"Tails\"\n",
    "    return chosen_token, coin\n",
    "\n",
    "bag = [\"Red\"] * 5 + [\"Blue\"] * 7\n",
    "random.seed(0)\n",
    "samples = [experiment(bag=bag) for repetition in range(n)]\n",
    "sum(token == \"Red\" for token, coin in samples) / n"
   ],
   "outputs": [
    {
     "output_type": "execute_result",
     "data": {
      "text/plain": [
       "0.4186"
      ]
     },
     "metadata": {},
     "execution_count": 12
    }
   ],
   "metadata": {
    "id": "8zPjn0a_an0e"
   }
  },
  {
   "cell_type": "code",
   "execution_count": 13,
   "source": [
    "# 2 your answer here \n",
    "sum(coin == \"Heads\" for token, coin in samples) / n"
   ],
   "outputs": [
    {
     "output_type": "execute_result",
     "data": {
      "text/plain": [
       "0.5724"
      ]
     },
     "metadata": {},
     "execution_count": 13
    }
   ],
   "metadata": {}
  },
  {
   "cell_type": "code",
   "execution_count": 14,
   "source": [
    "# 3 your answer here\n",
    "heads_samples = [(token, coin) for token, coin in samples if coin == \"Heads\"]\n",
    "sum(token == \"Red\" for token, coin in heads_samples) / len(heads_samples)"
   ],
   "outputs": [
    {
     "output_type": "execute_result",
     "data": {
      "text/plain": [
       "0.48986722571628233"
      ]
     },
     "metadata": {},
     "execution_count": 14
    }
   ],
   "metadata": {}
  },
  {
   "cell_type": "markdown",
   "source": [
    "## Exercise 04 (30 Points)\n",
    "\n",
    "The purpose of this exercise is to give an introduction to use numpy for statistics.\n",
    "The file \"populations.txt\" describes the populations of hares and lynxes (and carrots) in northern Canada during 20 years.\n",
    "\n",
    "1) What is the mean and standard deviation of the populations of each species for the years in the period.\n",
    "\n",
    "2) Which year each species had the largest population.\n",
    "\n",
    "3) Which species has the largest population for each year. (Hint: argsort & fancy indexing of np.array(['H', 'L', 'C']))\n",
    "\n",
    "4) Which years any of the populations is above 50000. (Hint: comparisons and np.any)\n",
    "\n",
    "5) The top 2 years for each species when they had the lowest populations. (Hint: argsort, fancy indexing)\n",
    "\n",
    "6) Compare (plot) the change in hare population (see help(np.gradient)) and the number of lynxes. Check correlation (see help(np.corrcoef)).\n",
    "\n",
    "\n",
    "**all without for-loops.**\n",
    "\n",
    "Disclaimer:\n",
    "Exercise adapted from [scipy lecture](https://scipy-lectures.org/intro/numpy/exercises.html)\n"
   ],
   "metadata": {
    "deletable": false,
    "editable": false,
    "tags": []
   }
  },
  {
   "cell_type": "code",
   "execution_count": 15,
   "source": [
    "data = np.loadtxt('populations.txt')\n",
    "populations = data[:, 1:]\n",
    "year, hares, lynxes, carrots = data.T  # trick: columns to variables\n",
    "plt.axes([0.2, 0.1, 0.5, 0.8]) \n",
    "plt.plot(year, hares, year, lynxes, year, carrots) \n",
    "plt.xlabel(\"Year\")\n",
    "plt.ylabel(\"Population\")\n",
    "plt.title(\"Population of animals over the years\")\n",
    "plt.legend(('Hare', 'Lynx', 'Carrot'), loc=(1.05, 0.5)) "
   ],
   "outputs": [
    {
     "output_type": "execute_result",
     "data": {
      "text/plain": [
       "<matplotlib.legend.Legend at 0x7f931a012af0>"
      ]
     },
     "metadata": {},
     "execution_count": 15
    },
    {
     "output_type": "display_data",
     "data": {
      "image/png": "[encoded data removed]",
      "text/plain": [
       "<Figure size 432x288 with 1 Axes>"
      ]
     },
     "metadata": {
      "needs_background": "light"
     }
    }
   ],
   "metadata": {
    "id": "9hc7b2RIa1Ce"
   }
  },
  {
   "cell_type": "code",
   "execution_count": 16,
   "source": [
    "# 1 your answer here \n",
    "import statistics\n",
    "print(f\"Mean for hares is {statistics.mean(hares)}, Deviation is {statistics.stdev(hares)}\")\n",
    "print(f\"Mean for lynxes is {statistics.mean(lynxes)}, Deviation is {statistics.stdev(lynxes)}\")\n",
    "print(f\"Mean for carrots is {statistics.mean(carrots)}, Deviation is {statistics.stdev(carrots)}\")"
   ],
   "outputs": [
    {
     "output_type": "stream",
     "name": "stdout",
     "text": [
      "Mean for hares is 34080.95238095238, Deviation is 21413.981858767394\n",
      "Mean for lynxes is 20166.666666666668, Deviation is 16655.999919948765\n",
      "Mean for carrots is 42400.0, Deviation is 3404.555771315841\n"
     ]
    }
   ],
   "metadata": {
    "id": "1jTryyYRbhjY"
   }
  },
  {
   "cell_type": "code",
   "execution_count": 17,
   "source": [
    "# 2 your answer here \n",
    "years = np.argmax(populations, axis=0)\n",
    "print(\"Maximum years for hare, lynx, carrot is: \", year[years], \" accordingly\")"
   ],
   "outputs": [
    {
     "output_type": "stream",
     "name": "stdout",
     "text": [
      "Maximum years for hare, lynx, carrot is:  [1903. 1904. 1900.]  accordingly\n"
     ]
    }
   ],
   "metadata": {
    "id": "h6NIjnB0b00c"
   }
  },
  {
   "cell_type": "code",
   "execution_count": 18,
   "source": [
    "# 3 your answer here \n",
    "max_species = np.argmax(populations, axis=1)\n",
    "species = np.array(['H', 'L', 'C'])\n",
    "result = list(zip(year, np.take(species, max_species)))\n",
    "print(result)"
   ],
   "outputs": [
    {
     "output_type": "stream",
     "name": "stdout",
     "text": [
      "[(1900.0, 'C'), (1901.0, 'C'), (1902.0, 'H'), (1903.0, 'H'), (1904.0, 'L'), (1905.0, 'L'), (1906.0, 'C'), (1907.0, 'C'), (1908.0, 'C'), (1909.0, 'C'), (1910.0, 'C'), (1911.0, 'C'), (1912.0, 'H'), (1913.0, 'H'), (1914.0, 'H'), (1915.0, 'L'), (1916.0, 'C'), (1917.0, 'C'), (1918.0, 'C'), (1919.0, 'C'), (1920.0, 'C')]\n"
     ]
    }
   ],
   "metadata": {}
  },
  {
   "cell_type": "code",
   "execution_count": 19,
   "source": [
    "# 4 your answer here \n",
    "above = np.any(populations > 50000, axis=1)\n",
    "print(\"Years above 50000: \", year[above])"
   ],
   "outputs": [
    {
     "output_type": "stream",
     "name": "stdout",
     "text": [
      "Years above 50000:  [1902. 1903. 1904. 1912. 1913. 1914. 1915.]\n"
     ]
    }
   ],
   "metadata": {}
  },
  {
   "cell_type": "code",
   "execution_count": 20,
   "source": [
    "# 5 your answer here \n",
    "lowest_top_2 = np.argsort(populations, axis=0)[:2]\n",
    "print(f\"Top 2 years with lowest populations are: \\n{year[lowest_top_2]}\")"
   ],
   "outputs": [
    {
     "output_type": "stream",
     "name": "stdout",
     "text": [
      "Top 2 years with lowest populations are: \n",
      "[[1917. 1900. 1916.]\n",
      " [1916. 1901. 1903.]]\n"
     ]
    }
   ],
   "metadata": {}
  },
  {
   "cell_type": "code",
   "execution_count": 21,
   "source": [
    "# 6 your answer here\n",
    "plt.plot(year, lynxes, 'r-', year, np.gradient(hares), 'b--')\n",
    "plt.legend(['lynx', 'grad(hares)'], loc='best')\n",
    "plt.show()\n",
    "print(np.corrcoef(lynxes, np.gradient(hares)))"
   ],
   "outputs": [
    {
     "output_type": "display_data",
     "data": {
      "image/png": "[encoded data removed]",
      "text/plain": [
       "<Figure size 432x288 with 1 Axes>"
      ]
     },
     "metadata": {
      "needs_background": "light"
     }
    },
    {
     "output_type": "stream",
     "name": "stdout",
     "text": [
      "[[ 1.         -0.91792485]\n",
      " [-0.91792485  1.        ]]\n"
     ]
    }
   ],
   "metadata": {}
  },
  {
   "cell_type": "markdown",
   "source": [
    "## Exercise 05 (Bonus question )\n",
    "\n",
    "Give an example of a real life scenario where you used probability for decision making\n"
   ],
   "metadata": {
    "deletable": false,
    "editable": false
   }
  },
  {
   "cell_type": "markdown",
   "source": [
    "I have used probability for decision making several times, especially while playing some games. Especially while playing team-based games, we usually use probability to detect either we have high chance to win game or not. For this, we check the enemy team's previous games and for each of the member of their group (it is 5 people team always) we check if they won games or not. If they have won the games, we check which heroes they have chosen for winning games and from this outcome we predict either we can win this game or not. "
   ],
   "metadata": {}
  }
 ],
 "metadata": {
  "celltoolbar": "Edit Metadata",
  "colab": {
   "name": "Assignment_0.ipynb",
   "provenance": []
  },
  "interpreter": {
   "hash": "afc79a00875b6703f625948dc8e69e2ff48e412409ecad3b6cd16a3416e2134e"
  },
  "kernelspec": {
   "name": "python3",
   "display_name": "Python 3.9.7 64-bit ('probabilistic-reasoning': conda)"
  },
  "language_info": {
   "codemirror_mode": {
    "name": "ipython",
    "version": 3
   },
   "file_extension": ".py",
   "mimetype": "text/x-python",
   "name": "python",
   "nbconvert_exporter": "python",
   "pygments_lexer": "ipython3",
   "version": "3.9.7"
  }
 },
 "nbformat": 4,
 "nbformat_minor": 4
}