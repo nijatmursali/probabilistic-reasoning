{
 "cells": [
  {
   "cell_type": "markdown",
   "metadata": {},
   "source": [
    "# Hochschule Bonn-Rhein-Sieg\n",
    "\n",
    "# Probabilistic Methods for Robotics, WS21\n",
    "\n",
    "# Assignment 08\n",
    "\n",
    "Instructions for submission :\n",
    "- Please restart and run all cells before submitting \n",
    "- Make sure your user name is correct\n",
    "\n",
    "Good luck !!"
   ]
  },
  {
   "cell_type": "markdown",
   "metadata": {},
   "source": [
    "### Student user name: mursa2s\n"
   ]
  },
  {
   "cell_type": "markdown",
   "metadata": {},
   "source": [
    "### Exercise 1: Dyn. Bayesian Network [40 points]\n",
    "\n",
    "A hospital director wants to know if his doctors are getting enough sleep between work shifts. Each day, the director\n",
    "observes whether his doctors sleep in the staff room, and whether they have red eyes. The hospital director has the following domain theory:<br>\n",
    "• The prior probability of getting enough sleep, with no observations, is 0.7<br>\n",
    "• The probability of getting enough sleep on night t is 0.8 given that the doctor got\n",
    "enough sleep the previous night, and 0.3 if not.<br>\n",
    "• The probability of having red eyes is 0.2 if the doctor got enough sleep, and 0.7 if not.<br>\n",
    "• The probability of sleeping in the staff room is 0.1 if the doctor got enough sleep, and 0.3 if not.<br>\n",
    "\n",
    "Create a dyn. Bayesian network that the hospital director could use to predict from a sequence of observations. Then reformulate this dynamic Bayesian network as a HMM that has only one single observation variable. Give also the complete probability tables for the model."
   ]
  },
  {
   "cell_type": "markdown",
   "metadata": {},
   "source": [
    "The result of dynamic Bayesian Network will be as follows:\n",
    "\n",
    "\n",
    "<p align=\"center\">\n",
    "  <img src=\"ex1part1.jpg\" style=\"width: 80%\" />\n",
    "</p>\n",
    "We know the following prior probabilities:\n",
    "\n",
    "<p align=\"center\">\n",
    "  <img src=\"ex1part11.jpg\" style=\"width: 80%\" />\n",
    "</p>\n",
    "\n",
    "In order to show the DBN as Hidden Markov Model we have to shrink two observations to one as requirement was to have only one observation variable (let say O). Thus, our HMM diagram will be as following:\n",
    "\n",
    "<p align=\"center\">\n",
    "  <img src=\"ex1part2.jpg\" style=\"width: 80%\" />\n",
    "</p>\n",
    "\n",
    "and following tables show the probability tables, especially the new table is for finding probability of O given S. In our case, observation will be combination of red and stuff room. \n",
    "\n",
    "We can find $P(O|S_t)$ like:\n",
    "\n",
    "$$ P(O|S_t)=P(r|S_t)P(st|S_t) $$ \n",
    "\n",
    "where S_t is the sleep, st is stuff room and r is the red eyes. So, the results will be:\n",
    "\n",
    "$$ P(r, st|s)=P(r|s)P(st|s) = 0.2 * 0.1=0.02$$ \n",
    "$$ P(r, \\lnot st|s)=P(r|s)P(\\lnot st|s) = 0.2*0.9=0.18$$ \n",
    "$$ P(\\lnot r, st|s)=P(\\lnot r|s)P(st|s) = 0.8*0.1=0.08$$ \n",
    "$$ P(\\lnot r, \\lnot st|s)=P(\\lnot r|s)P(\\lnot st|s) = 0.8*0.9=0.72$$ \n",
    "$$ P(r, st|\\lnot s)=P(r|\\lnot s)P(st|\\lnot s) = 0.7*0.3=0.21$$ \n",
    "$$ P(r, \\lnot st|\\lnot s)=P(r|\\lnot s)P(\\lnot st|\\lnot s) = 0.7*0.7=0.49$$ \n",
    "$$ P(\\lnot r, st|\\lnot s)=P(\\lnot r| \\lnot s)P(st|\\lnot s) = 0.3*0.3=0.09$$ \n",
    "$$ P(\\lnot r, \\lnot st|\\lnot s)=P(\\lnot r| \\lnot s)P(\\lnot st|\\lnot s) = 0.3*0.7=0.21$$ \n",
    "\n",
    "\n",
    "<p align=\"center\">\n",
    "  <img src=\"ex1part31.jpeg\" style=\"width: 80%\" />\n",
    "</p>"
   ]
  },
  {
   "cell_type": "markdown",
   "metadata": {},
   "source": [
    "### [Exercise 2] Expected utility [20 points]\n",
    "\n",
    "(*Artificial Intelligence: A Modern Approach*, 3rd edition) Tickets to a lottery cost $\\$1$. There are two possible prizes: a $\\$10$ payoff with probability $\\frac{1}{50}$, and a $\\$1,000,000$ payoff with probability $\\frac{1}{2,000,000}$. What is the expected monetary value of a lottery ticket? When (if ever) is it rational to buy a ticket? Be precise - show an equation involving utilities. You may assume current wealth of $\\$k$ and that $U(S_k) = 0$. You may also assume that $U(S_{k+10}) = 10 \\times U(S_{k+1})$, but you may not make any assumptions about $U(S_{k+1,000,000})$. Sociological studies show that people with lower income buy a disproportionate number of lottery tickets. Do you think this is because they are worse decision makers or because they have a different utility function? Consider the value of contemplating the possibility of winning the lottery versus the value of contemplating becoming an action hero while watching an adventure movie.\n"
   ]
  },
  {
   "cell_type": "markdown",
   "metadata": {},
   "source": [
    "We know from our lessons that the expected utility of an action given the evidence, $EU(a|e)$, is just the average utility value of the outcomes, weighted by the probability that the outcome occurs:\n",
    "\n",
    "$$EU(a|e)=\\sum_{s'} P(RESULT(a)=s'|a, e) U(s')$$\n",
    "\n",
    "The fundamental principle of maximum expected utility MEU is that the rational agen should choose the action that maximizes the agen'ts expected utility:\n",
    "\n",
    "$$action= \\argmax_a EU(a|e)$$\n",
    "\n",
    "Thus, Expected monetary value for a lottery ticket will be:\n",
    "\n",
    "$$E = \\frac{1}{50} \\times 10\\$ + \\frac{1}{2000000} \\times 1000000\\$=0.7\\$$$\n",
    "\n",
    "To be more precise:\n",
    "\n",
    "$$E = \\frac{1}{50} \\times U(S_{k+10}) + \\frac{1}{2000000} \\times U(S_{k+1000000}) $$\n",
    "\n",
    "\n",
    "Thus, the utility of the lottery is:\n",
    "\n",
    "\n",
    "$$U(L) = \\frac{1}{50} U(S_{k+10})+ \\frac{1}{2000000}U(S_{k+1000000}) ≈ \\frac{1}{5}U(S_{k+1})+ \\frac{1}{2000000}U(S_{k+1000000}) $$\n",
    "\n",
    "As seen from our result, this is more than $U(S_{k+1})$ once we have $U(S_{k+1000000}) > 1600000U(\\$1)$. So, it means it is rational. \n"
   ]
  },
  {
   "cell_type": "markdown",
   "metadata": {},
   "source": [
    "### [Exercise 3] Utility networks [40 points]\n",
    "\n",
    "(*Artificial Intelligence: A Modern Approach*, 3rd edition) Consider a student who has the choice to buy or not buy a textbook for a course. We'll model this as a decision problem with one Boolean decision node, $B$, indicating whether the agent chooses to buy the book, and two Boolean chance nodes: $M$, indicating whether the student has mastered the material in the book, and $P$, indicating whether the student passes the course. Of course, there is also a utility node, $U$. A certain student, Sam, has an additive utility function: $0$ for not buying the book and $-\\$100$ for buying it; and $\\$2000$ for passing the course and $0$ for not passing. Sam's conditional probability estimates are as follows:\n",
    "\n",
    "\\begin{align*}\n",
    "    &P(p|b,m) = 0.9 \\hspace{1.5cm} P(m|b) = 0.9 \\\\\n",
    "    &P(p|b,\\lnot m) = 0.5 \\hspace{1.1cm} P(m|\\lnot b) = 0.7 \\\\\n",
    "    &P(p|\\lnot b,m) = 0.8 \\\\\n",
    "    &P(p|\\lnot b,\\lnot m) = 0.3\n",
    "\\end{align*}\n",
    "\n",
    "You might think that $P$ would be independent of $B$ given $M$, but this course has an open-book final, so having the book helps.\n",
    "\n",
    "* Draw the decision network for this problem. \n",
    "* Compute the expected utility of buying the book and of not buying it.\n",
    "* What should Sam do?"
   ]
  },
  {
   "cell_type": "markdown",
   "metadata": {},
   "source": [
    "Our decision network diagram will be like following:\n",
    "\n",
    "<p align=\"center\">\n",
    "  <img src=\"diagram.png\" />\n",
    "</p>\n",
    "\n",
    "We need to compute expected utility of buying book and not buying book. Thus, for this, we need to find $P(p|b)$ and $P(p|¬b)$. So, each will be:\n",
    "\n",
    "$$P(p|b) = \\sum_{m} P(p|b,m)P(m|b) = 0.9 × 0.9 + 0.5 × 0.1 = 0.86$$\n",
    "\n",
    "$$P(p|¬b) = \\sum_{m} P(p|¬b,m)P(m|¬b) = 0.8 × 0.7 + 0.3 × 0.3= 0.65$$\n",
    "\n",
    "The expected utilities are thus:\n",
    "\n",
    "$$EU[b] = \\sum_{p}P(p|b)U(p,b)= 0.86(2000 − 100) + 0.14(−100) = 1620$$\n",
    "\n",
    "$$EU[¬b] = \\sum_{p}P(p|¬b)U(p,¬b)= 0.65 × 2000 + 0.14 × 0= 1300$$\n",
    "\n",
    "As we see $EU[b]>EU[¬b]$, so Sam should buy the book.\n"
   ]
  }
 ],
 "metadata": {
  "kernelspec": {
   "display_name": "Python 3",
   "language": "python",
   "name": "python3"
  },
  "language_info": {
   "codemirror_mode": {
    "name": "ipython",
    "version": 3
   },
   "file_extension": ".py",
   "mimetype": "text/x-python",
   "name": "python",
   "nbconvert_exporter": "python",
   "pygments_lexer": "ipython3",
   "version": "3.9.7"
  }
 },
 "nbformat": 4,
 "nbformat_minor": 2
}
